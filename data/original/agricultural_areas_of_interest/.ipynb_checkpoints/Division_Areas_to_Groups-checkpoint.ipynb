{
 "cells": [
  {
   "cell_type": "code",
   "execution_count": 2,
   "metadata": {},
   "outputs": [],
   "source": [
    "import pandas as pd\n",
    "import random as rand\n",
    "import numpy as np"
   ]
  },
  {
   "cell_type": "code",
   "execution_count": 3,
   "metadata": {},
   "outputs": [],
   "source": [
    "files_to_divide = [\"Attendorn_dev.csv\",\"Drolshagen_dev.csv\",\"Finnentrop_dev.csv\"]\n",
    "\n",
    "#students_moodle = pd.read_csv(file_students_moodle)\n",
    "#students_registered = pd.read_csv(file_students_registered)"
   ]
  },
  {
   "cell_type": "code",
   "execution_count": 12,
   "metadata": {},
   "outputs": [],
   "source": [
    "counter = 0\n",
    "file_to_divide = files_to_divide[0]\n",
    "number_of_groups = 52\n",
    "for n in range(number_of_groups):\n",
    "    for file_to_divide in files_to_divide:\n",
    "        col_name = file_to_divide[-9]\n",
    "        df_complete = pd.read_csv(file_to_divide)\n",
    "        df_complete = df_complete[[\"fid\",\"bez\"]]\n",
    "        var_compare = \"Ackerland\"\n",
    "        df_acker = df_complete.loc[df_complete[\"bez\"]==var_compare]\n",
    "        var_compare = \" Grünland\"\n",
    "        df_gruen = df_complete.loc[df_complete[\"bez\"]==var_compare]\n"
   ]
  },
  {
   "cell_type": "code",
   "execution_count": null,
   "metadata": {},
   "outputs": [],
   "source": []
  },
  {
   "cell_type": "code",
   "execution_count": 4,
   "metadata": {},
   "outputs": [
    {
     "data": {
      "text/html": [
       "<div>\n",
       "<style scoped>\n",
       "    .dataframe tbody tr th:only-of-type {\n",
       "        vertical-align: middle;\n",
       "    }\n",
       "\n",
       "    .dataframe tbody tr th {\n",
       "        vertical-align: top;\n",
       "    }\n",
       "\n",
       "    .dataframe thead th {\n",
       "        text-align: right;\n",
       "    }\n",
       "</style>\n",
       "<table border=\"1\" class=\"dataframe\">\n",
       "  <thead>\n",
       "    <tr style=\"text-align: right;\">\n",
       "      <th></th>\n",
       "      <th>mtknr</th>\n",
       "      <th>mail</th>\n",
       "      <th>sortname</th>\n",
       "      <th>pversuch</th>\n",
       "    </tr>\n",
       "  </thead>\n",
       "  <tbody>\n",
       "    <tr>\n",
       "      <th>0</th>\n",
       "      <td>26441</td>\n",
       "      <td>26441@hsrw.org</td>\n",
       "      <td>-,Sowmya Ranjan Naya</td>\n",
       "      <td>1</td>\n",
       "    </tr>\n",
       "    <tr>\n",
       "      <th>1</th>\n",
       "      <td>28381</td>\n",
       "      <td>28381@hsrw.org</td>\n",
       "      <td>Abdul Majeed Sheikh,</td>\n",
       "      <td>1</td>\n",
       "    </tr>\n",
       "    <tr>\n",
       "      <th>2</th>\n",
       "      <td>28004</td>\n",
       "      <td>28004@hsrw.org</td>\n",
       "      <td>Afzal,Umair</td>\n",
       "      <td>2</td>\n",
       "    </tr>\n",
       "    <tr>\n",
       "      <th>3</th>\n",
       "      <td>28365</td>\n",
       "      <td>28365@hsrw.org</td>\n",
       "      <td>Akter,Most Sarmin</td>\n",
       "      <td>1</td>\n",
       "    </tr>\n",
       "    <tr>\n",
       "      <th>4</th>\n",
       "      <td>28370</td>\n",
       "      <td>28370@hsrw.org</td>\n",
       "      <td>Alam,Ruhi Tamanna</td>\n",
       "      <td>1</td>\n",
       "    </tr>\n",
       "    <tr>\n",
       "      <th>...</th>\n",
       "      <td>...</td>\n",
       "      <td>...</td>\n",
       "      <td>...</td>\n",
       "      <td>...</td>\n",
       "    </tr>\n",
       "    <tr>\n",
       "      <th>62</th>\n",
       "      <td>28347</td>\n",
       "      <td>28347@hsrw.org</td>\n",
       "      <td>Uddin,MD Jasim</td>\n",
       "      <td>1</td>\n",
       "    </tr>\n",
       "    <tr>\n",
       "      <th>63</th>\n",
       "      <td>28393</td>\n",
       "      <td>28393@hsrw.org</td>\n",
       "      <td>Vijayakumar,Megha</td>\n",
       "      <td>1</td>\n",
       "    </tr>\n",
       "    <tr>\n",
       "      <th>64</th>\n",
       "      <td>26638</td>\n",
       "      <td>26638@hsrw.org</td>\n",
       "      <td>Yasmin,Naznin</td>\n",
       "      <td>1</td>\n",
       "    </tr>\n",
       "    <tr>\n",
       "      <th>65</th>\n",
       "      <td>28340</td>\n",
       "      <td>28340@hsrw.org</td>\n",
       "      <td>Zubair,Muhammad</td>\n",
       "      <td>1</td>\n",
       "    </tr>\n",
       "    <tr>\n",
       "      <th>66</th>\n",
       "      <td>24908</td>\n",
       "      <td>24908@hsrw.org</td>\n",
       "      <td>'',Ahmed Jaffer</td>\n",
       "      <td>1</td>\n",
       "    </tr>\n",
       "  </tbody>\n",
       "</table>\n",
       "<p>67 rows × 4 columns</p>\n",
       "</div>"
      ],
      "text/plain": [
       "    mtknr            mail              sortname  pversuch\n",
       "0   26441  26441@hsrw.org  -,Sowmya Ranjan Naya         1\n",
       "1   28381  28381@hsrw.org  Abdul Majeed Sheikh,         1\n",
       "2   28004  28004@hsrw.org           Afzal,Umair         2\n",
       "3   28365  28365@hsrw.org     Akter,Most Sarmin         1\n",
       "4   28370  28370@hsrw.org     Alam,Ruhi Tamanna         1\n",
       "..    ...             ...                   ...       ...\n",
       "62  28347  28347@hsrw.org        Uddin,MD Jasim         1\n",
       "63  28393  28393@hsrw.org     Vijayakumar,Megha         1\n",
       "64  26638  26638@hsrw.org         Yasmin,Naznin         1\n",
       "65  28340  28340@hsrw.org       Zubair,Muhammad         1\n",
       "66  24908  24908@hsrw.org       '',Ahmed Jaffer         1\n",
       "\n",
       "[67 rows x 4 columns]"
      ]
     },
     "execution_count": 4,
     "metadata": {},
     "output_type": "execute_result"
    }
   ],
   "source": [
    "# Generate email addresses\n",
    "students_registered = students_registered[[\"mtknr\",'sortname',\"pversuch\"]]\n",
    "students_registered[\"mail\"] = students_registered.apply(lambda row: str(row['mtknr']) + \"@hsrw.org\", axis=1)\n",
    "students_registered = students_registered[[\"mtknr\",\"mail\",'sortname',\"pversuch\"]]\n",
    "students_registered"
   ]
  },
  {
   "cell_type": "code",
   "execution_count": 5,
   "metadata": {},
   "outputs": [],
   "source": [
    "def divide_students(student_list,num_division):\n",
    "    \"\"\"\n",
    "    Returns num_division lists of students chosen randomly\n",
    "    \"\"\"\n",
    "    # Define the number of divisions that you want to make:\n",
    "    output_lists = [None] * num_division\n",
    "    # create a deep copy of the  list to divide\n",
    "    list_to_divide = student_list * 1\n",
    "    # to sample\n",
    "    for i in range(num_division):  \n",
    "        n = int(len(student_list)/4)+1\n",
    "        if len(list_to_divide) < n:\n",
    "            n = len(list_to_divide)\n",
    "        output_lists[i] = list_to_divide.sample(n=n,replace=False)\n",
    "        list_to_divide = list_to_divide.drop(output_lists[i].index)\n",
    "        print(\"remaining number of records: \",len(list_to_divide))\n",
    "    return output_lists"
   ]
  },
  {
   "cell_type": "code",
   "execution_count": 6,
   "metadata": {},
   "outputs": [
    {
     "name": "stdout",
     "output_type": "stream",
     "text": [
      "remaining number of records:  50\n",
      "remaining number of records:  33\n",
      "remaining number of records:  16\n",
      "remaining number of records:  0\n",
      "Saving file: \n",
      "student_list_exam_type_1.csv\n",
      "Saving file: \n",
      "student_list_exam_type_2.csv\n",
      "Saving file: \n",
      "student_list_exam_type_3.csv\n",
      "Saving file: \n",
      "student_list_exam_type_4.csv\n"
     ]
    }
   ],
   "source": [
    "output_lists = divide_students(students_registered, 4)\n",
    "output_counter = 0\n",
    "for output_list in output_lists:\n",
    "    output_counter = output_counter + 1\n",
    "    print(\"Saving file: \")\n",
    "    file_output = \"student_list_exam_type_\" + str(output_counter) + \".csv\"\n",
    "    print (file_output)\n",
    "    output_list.to_csv(file_output,sep =\";\",header = False, index = False)"
   ]
  },
  {
   "cell_type": "code",
   "execution_count": 35,
   "metadata": {},
   "outputs": [],
   "source": [
    "from os import listdir\n",
    "# Load the grade files\n",
    "results = \"Test_exam/Results/\"\n",
    "file_results_arr = listdir('Test_exam/Results/')\n",
    "final_result = pd.DataFrame(columns=['Examinee-ID',\"Total Score\"])\n",
    "for result in file_results_arr:\n",
    "    result_df = pd.read_csv(results + result, sep=\";\")\n",
    "    result_df = result_df[['Examinee-ID',\"Total Score\"]]\n",
    "    #concatenate\n",
    "    final_result = pd.concat([final_result,result_df])\n",
    "\n",
    "final_result.sort_values('Examinee-ID').to_excel(results+\"ResultsPracticeExam.xlsx\",index=False)\n"
   ]
  },
  {
   "cell_type": "code",
   "execution_count": null,
   "metadata": {},
   "outputs": [],
   "source": []
  }
 ],
 "metadata": {
  "kernelspec": {
   "display_name": "Python 3",
   "language": "python",
   "name": "python3"
  },
  "language_info": {
   "codemirror_mode": {
    "name": "ipython",
    "version": 3
   },
   "file_extension": ".py",
   "mimetype": "text/x-python",
   "name": "python",
   "nbconvert_exporter": "python",
   "pygments_lexer": "ipython3",
   "version": "3.7.3"
  }
 },
 "nbformat": 4,
 "nbformat_minor": 4
}
